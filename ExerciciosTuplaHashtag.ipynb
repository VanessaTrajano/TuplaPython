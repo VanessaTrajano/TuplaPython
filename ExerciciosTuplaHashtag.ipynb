{
 "cells": [
  {
   "cell_type": "markdown",
   "metadata": {},
   "source": [
    "# Exercícios\n",
    "\n",
    "São exercícios bem parecidos com os que fizemos com listas. Mas na tupla, podemos não só trabalhar com índices, mas fazer o \"unpacking\" das tuplas, o que pode facilitar nossos códigos.\n",
    "\n",
    "## 1. Análise de Vendas\n",
    "\n",
    "Nesse exercício vamos fazer uma \"análise simples\" de atingimento de Meta.\n",
    "\n",
    "Temos uma lista com os vendedores e os valores de vendas e queremos identificar (printar) quais os vendedores que bateram a meta e qual foi o valor que eles venderam."
   ]
  },
  {
   "cell_type": "code",
   "execution_count": 1,
   "metadata": {},
   "outputs": [
    {
     "name": "stdout",
     "output_type": "stream",
     "text": [
      "João bateu a meta, vendendo 15000 reais em produtos.\n",
      "Julia bateu a meta, vendendo 27000 reais em produtos.\n",
      "Ana bateu a meta, vendendo 10300 reais em produtos.\n"
     ]
    }
   ],
   "source": [
    "meta = 10000\n",
    "vendas = [\n",
    "    ('João', 15000),\n",
    "    ('Julia', 27000),\n",
    "    ('Marcus', 9900),\n",
    "    ('Maria', 3750),\n",
    "    ('Ana', 10300),\n",
    "    ('Alon', 7870),\n",
    "]\n",
    "\n",
    "for nome, venda in vendas:\n",
    "    if venda > meta:\n",
    "        print(f\"{nome} bateu a meta, vendendo {venda} reais em produtos.\")"
   ]
  },
  {
   "cell_type": "markdown",
   "metadata": {},
   "source": [
    "## 2. Comparação com Ano Anterior\n",
    "\n",
    "Digamos que você está analisando as vendas de produtos de um ecommerce e quer identificar quais produtos tiveram no ano de 2020 mais vendas do que no ano de 2019, para reportar isso para a diretoria.\n",
    "\n",
    "Sua resposta pode ser um print de cada produto, qual foi a venda de 2019, a venda de 2020 e o % de crescimento de 2020 para 2019.\n",
    "\n",
    "Lembrando, para calcular o % de crescimento de um produto de um ano para o outro, podemos fazer: (vendas_produto2020/vendas_produto2019 - 1)\n",
    "\n",
    "A lógica da tupla é: (produto, vendas2019, vendas2020)"
   ]
  },
  {
   "cell_type": "code",
   "execution_count": 3,
   "metadata": {},
   "outputs": [
    {
     "name": "stdout",
     "output_type": "stream",
     "text": [
      "O produto iphone teve 558147 vendas em 2019 e 951642 vendas em 2020. Vendendo 70.50% a mais em 2020 do que em 2019.\n",
      "O produto tv teve 405252 vendas em 2019 e 787604 vendas em 2020. Vendendo 94.35% a mais em 2020 do que em 2019.\n",
      "O produto máquina de café teve 718654 vendas em 2019 e 867660 vendas em 2020. Vendendo 20.73% a mais em 2020 do que em 2019.\n",
      "O produto notebook dell teve 422760 vendas em 2019 e 694913 vendas em 2020. Vendendo 64.38% a mais em 2020 do que em 2019.\n",
      "O produto notebook hp teve 154753 vendas em 2019 e 539704 vendas em 2020. Vendendo 248.75% a mais em 2020 do que em 2019.\n",
      "O produto microsoft surface teve 438508 vendas em 2019 e 667179 vendas em 2020. Vendendo 52.15% a mais em 2020 do que em 2019.\n",
      "O produto webcam teve 237467 vendas em 2019 e 295633 vendas em 2020. Vendendo 24.49% a mais em 2020 do que em 2019.\n",
      "O produto caixa de som teve 489705 vendas em 2019 e 725316 vendas em 2020. Vendendo 48.11% a mais em 2020 do que em 2019.\n",
      "O produto microfone teve 328311 vendas em 2019 e 644622 vendas em 2020. Vendendo 96.34% a mais em 2020 do que em 2019.\n",
      "O produto câmera canon teve 591120 vendas em 2019 e 994303 vendas em 2020. Vendendo 68.21% a mais em 2020 do que em 2019.\n"
     ]
    }
   ],
   "source": [
    "vendas_produtos = [('iphone', 558147, 951642), ('galaxy', 712350, 244295), ('ipad', 573823, 26964), ('tv', 405252, 787604), ('máquina de café', 718654, 867660), ('kindle', 531580, 78830), ('geladeira', 973139, 710331), ('adega', 892292, 646016), ('notebook dell', 422760, 694913), ('notebook hp', 154753, 539704), ('notebook asus', 887061, 324831), ('microsoft surface', 438508, 667179), ('webcam', 237467, 295633), ('caixa de som', 489705, 725316), ('microfone', 328311, 644622), ('câmera canon', 591120, 994303)]\n",
    "\n",
    "for produto, ven2019, ven2020 in vendas_produtos:\n",
    "    if ven2020 > ven2019:\n",
    "        percent = ven2020/ven2019 -1\n",
    "        print(\"O produto {} teve {} vendas em 2019 e {} vendas em 2020. Vendendo {:.2%} a mais em 2020 do que em 2019.\".format(produto, ven2019, ven2020, percent))"
   ]
  }
 ],
 "metadata": {
  "kernelspec": {
   "display_name": "Python 3 (ipykernel)",
   "language": "python",
   "name": "python3"
  },
  "language_info": {
   "codemirror_mode": {
    "name": "ipython",
    "version": 3
   },
   "file_extension": ".py",
   "mimetype": "text/x-python",
   "name": "python",
   "nbconvert_exporter": "python",
   "pygments_lexer": "ipython3",
   "version": "3.10.9"
  }
 },
 "nbformat": 4,
 "nbformat_minor": 4
}
